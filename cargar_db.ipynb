{
 "cells": [
  {
   "cell_type": "code",
   "execution_count": 1,
   "id": "6e81dcf7",
   "metadata": {},
   "outputs": [],
   "source": [
    "#%% Librerías\n",
    "\n",
    "from psycopg_pool import ConnectionPool\n",
    "from langgraph.checkpoint.postgres import PostgresSaver"
   ]
  },
  {
   "cell_type": "code",
   "execution_count": null,
   "id": "23f26424",
   "metadata": {},
   "outputs": [],
   "source": [
    "## Ejecutar solo la primera vez para crear automaticamente las tablas\n",
    "## [checkpoint_blobs, checkpoint_migrations, checkpoint_writes, checkpoints] en el esquema public\n",
    "#Variables de memoria\n",
    "\n",
    "connection_kwargs = {\n",
    "    \"autocommit\": True,\n",
    "    \"prepare_threshold\": 0,\n",
    "}\n",
    "\n",
    "uribd = \"postgresql://\"\n",
    "\n",
    "# Inicializamos la memoria\n",
    "with ConnectionPool(\n",
    "    # Example configuration\n",
    "    conninfo=uribd,\n",
    "    max_size=20,\n",
    "    kwargs=connection_kwargs,\n",
    ") as pool:\n",
    "    checkpointer = PostgresSaver(pool)\n",
    "    checkpointer.setup()\n",
    "##  Eliminar esta celda luego de crear la memoria\n"
   ]
  }
 ],
 "metadata": {
  "kernelspec": {
   "display_name": "agente_indra",
   "language": "python",
   "name": "python3"
  },
  "language_info": {
   "codemirror_mode": {
    "name": "ipython",
    "version": 3
   },
   "file_extension": ".py",
   "mimetype": "text/x-python",
   "name": "python",
   "nbconvert_exporter": "python",
   "pygments_lexer": "ipython3",
   "version": "3.9.23"
  }
 },
 "nbformat": 4,
 "nbformat_minor": 5
}
